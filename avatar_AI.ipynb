{
  "cells": [
    {
      "cell_type": "markdown",
      "metadata": {
        "id": "GRs7pv4PWuPV"
      },
      "source": [
        "# avatar_AI - README\n",
        "\n",
        "1. Вам потребуется скачать по [ссылки](https://drive.google.com/file/d/1AcmO9sYHT-QQDIa8AaLdBlLKO4GmjvOH/view?usp=sharing) rar файл проекта с моего google drive.\n",
        "\n",
        "2. Загрузите мой проект к себе в google disk таким образом, чтобы путь к нему был \"/content/drive/MyDrive/avatar_AI.rar\".\n",
        "\n",
        "3. Подключите свой google disk:"
      ]
    },
    {
      "cell_type": "code",
      "execution_count": null,
      "metadata": {
        "id": "pme6rwCYNmUo"
      },
      "outputs": [],
      "source": [
        "from google.colab import drive\n",
        "drive.mount('/content/drive')"
      ]
    },
    {
      "cell_type": "markdown",
      "metadata": {
        "id": "TUU4GbiGXlhk"
      },
      "source": [
        "4. Установите нужную для проекта версию python:"
      ]
    },
    {
      "cell_type": "code",
      "execution_count": null,
      "metadata": {
        "id": "GafyOwSeOKo8"
      },
      "outputs": [],
      "source": [
        "!sudo apt install python3.8\n",
        "\n",
        "!update-alternatives --install /usr/local/bin/python3 python3 /usr/bin/python3.8 1\n",
        "\n",
        "!sudo apt-get install python3.8-distutils\n",
        "\n",
        "!python --version\n",
        "\n",
        "!apt-get update\n",
        "\n",
        "!apt install software-properties-common\n",
        "\n",
        "!sudo dpkg --remove --force-remove-reinstreq python3-pip python3-setuptools python3-wheel\n",
        "\n",
        "!apt-get install python3-pip"
      ]
    },
    {
      "cell_type": "markdown",
      "metadata": {
        "id": "iUtxSwfLX35T"
      },
      "source": [
        "5. Распакуйте мой проект:"
      ]
    },
    {
      "cell_type": "code",
      "execution_count": null,
      "metadata": {
        "id": "_qk0W4VoNq3l"
      },
      "outputs": [],
      "source": [
        "!sudo apt install unrar\n",
        "!unrar x \"/content/drive/MyDrive/avatar_AI.rar\" \"/content\""
      ]
    },
    {
      "cell_type": "markdown",
      "metadata": {
        "id": "gOmuOJq9YDXx"
      },
      "source": [
        "6. Установите зависимости проекта:"
      ]
    },
    {
      "cell_type": "code",
      "execution_count": null,
      "metadata": {
        "id": "skPnZV6qJDlS"
      },
      "outputs": [],
      "source": [
        "%cd avatar_AI\n",
        "!export PYTHONPATH=/content/avatar_AI:$PYTHONPATH\n",
        "!python3.8 -m pip install torch==1.12.1+cu113 torchvision==0.13.1+cu113 torchaudio==0.12.1 --extra-index-url https://download.pytorch.org/whl/cu113\n",
        "!apt update\n",
        "!apt install ffmpeg &> /dev/null\n",
        "!python3.8 -m pip install -r r.txt"
      ]
    },
    {
      "cell_type": "markdown",
      "metadata": {
        "id": "ipm-cDNAYJ3f"
      },
      "source": [
        "7. Запустите демонстрацию:"
      ]
    },
    {
      "cell_type": "code",
      "execution_count": null,
      "metadata": {
        "id": "NZZFwyz4Pkrj"
      },
      "outputs": [],
      "source": [
        "!python3.8 inference.py --text \"привет мир, как у вас всех дела\" --source_image image_1.png --enhancer gfpgan --speaker female"
      ]
    },
    {
      "cell_type": "markdown",
      "metadata": {
        "id": "wqJNneOtauH2"
      },
      "source": [
        "Я приведу лишь основные аргументы для работы с программой:\n",
        "```\n",
        " --text <\"Привет мир!\"> - указывать только с --speaker <male или female>\n",
        " ```\n",
        "\n",
        " Эти два аргумента отвечают за то что говорит спикер и за то какой голос имеет спикер.\n",
        "```\n",
        " --source_image <image_1.png или video_1.mp4>\n",
        "```\n",
        "\n",
        "Этот аргумент говорит программе путь в изображению или короткому видео."
      ]
    }
  ],
  "metadata": {
    "accelerator": "GPU",
    "colab": {
      "gpuType": "T4",
      "provenance": []
    },
    "kernelspec": {
      "display_name": "Python 3",
      "name": "python3"
    },
    "language_info": {
      "name": "python"
    }
  },
  "nbformat": 4,
  "nbformat_minor": 0
}
